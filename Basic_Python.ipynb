{
  "nbformat": 4,
  "nbformat_minor": 0,
  "metadata": {
    "colab": {
      "provenance": [],
      "authorship_tag": "ABX9TyN94TeLgcmBpwq0d5FMsA2B",
      "include_colab_link": true
    },
    "kernelspec": {
      "name": "python3",
      "display_name": "Python 3"
    },
    "language_info": {
      "name": "python"
    }
  },
  "cells": [
    {
      "cell_type": "markdown",
      "metadata": {
        "id": "view-in-github",
        "colab_type": "text"
      },
      "source": [
        "<a href=\"https://colab.research.google.com/github/susanrosesa/Basic-Pythonfor-Machine-Learning/blob/main/Basic_Python.ipynb\" target=\"_parent\"><img src=\"https://colab.research.google.com/assets/colab-badge.svg\" alt=\"Open In Colab\"/></a>"
      ]
    },
    {
      "cell_type": "markdown",
      "source": [
        "# Introduction to `Python`\n",
        "First Program: Displays a Hello"
      ],
      "metadata": {
        "id": "o4I7ZY897Ilx"
      }
    },
    {
      "cell_type": "code",
      "source": [
        "print (\"Hello\")"
      ],
      "metadata": {
        "colab": {
          "base_uri": "https://localhost:8080/"
        },
        "id": "bjewTu9j74p3",
        "outputId": "c0043980-9ed2-4d04-8b51-98804af625ee"
      },
      "execution_count": 1,
      "outputs": [
        {
          "output_type": "stream",
          "name": "stdout",
          "text": [
            "Hello\n"
          ]
        }
      ]
    },
    {
      "cell_type": "markdown",
      "source": [
        ">Program to assign an integer and display it"
      ],
      "metadata": {
        "id": "meZD1T1X9gjg"
      }
    },
    {
      "cell_type": "code",
      "source": [
        "a=10\n",
        "print (\"Value of the variable a is:\",a)"
      ],
      "metadata": {
        "colab": {
          "base_uri": "https://localhost:8080/"
        },
        "id": "5y-_tcIq80Wo",
        "outputId": "a8d5d99e-e385-472c-dbef-5cedff7b51d8"
      },
      "execution_count": 3,
      "outputs": [
        {
          "output_type": "stream",
          "name": "stdout",
          "text": [
            "Value of the variable a is: 10\n"
          ]
        }
      ]
    },
    {
      "cell_type": "markdown",
      "source": [
        ">Program to assign two integers and find sum"
      ],
      "metadata": {
        "id": "KDeln4Tw9V2B"
      }
    },
    {
      "cell_type": "code",
      "source": [
        "a=10\n",
        "b=5\n",
        "sum=a+b\n",
        "print (\"Value of sum is:\",sum)"
      ],
      "metadata": {
        "colab": {
          "base_uri": "https://localhost:8080/"
        },
        "id": "7Cv5T4iq9xDw",
        "outputId": "87ea7783-d173-4a69-e7e6-4c8314f0c97f"
      },
      "execution_count": 4,
      "outputs": [
        {
          "output_type": "stream",
          "name": "stdout",
          "text": [
            "Value of sum is: 15\n"
          ]
        }
      ]
    },
    {
      "cell_type": "markdown",
      "source": [
        ">Reading numbers from the user and find the sum"
      ],
      "metadata": {
        "id": "7Kh5lEHk-VEA"
      }
    },
    {
      "cell_type": "code",
      "source": [
        "a=int(input(\"Enter the first number\"))#here input function read values as strings. int() cast it to integer"
      ],
      "metadata": {
        "colab": {
          "base_uri": "https://localhost:8080/"
        },
        "id": "LSOAp5lD-soY",
        "outputId": "ce108d2b-6d74-48c8-8736-f32bb253ac08"
      },
      "execution_count": 9,
      "outputs": [
        {
          "name": "stdout",
          "output_type": "stream",
          "text": [
            "Enter the first number10\n"
          ]
        }
      ]
    },
    {
      "cell_type": "code",
      "source": [
        "b=int(input(\"Enter the second number\"))"
      ],
      "metadata": {
        "colab": {
          "base_uri": "https://localhost:8080/"
        },
        "id": "2G-QkIDu-xZY",
        "outputId": "24a79b63-79ff-4fcc-cf8b-f9c49ea2c49e"
      },
      "execution_count": 10,
      "outputs": [
        {
          "name": "stdout",
          "output_type": "stream",
          "text": [
            "Enter the second number5\n"
          ]
        }
      ]
    },
    {
      "cell_type": "code",
      "source": [
        "#displaying a and b\n",
        "print(a)"
      ],
      "metadata": {
        "colab": {
          "base_uri": "https://localhost:8080/"
        },
        "id": "-atPQx8j_tZw",
        "outputId": "620797e9-60eb-4c7e-bcbc-433047b533f0"
      },
      "execution_count": 8,
      "outputs": [
        {
          "output_type": "stream",
          "name": "stdout",
          "text": [
            "10\n"
          ]
        }
      ]
    },
    {
      "cell_type": "code",
      "source": [
        "c=a+b\n",
        "print (c)"
      ],
      "metadata": {
        "colab": {
          "base_uri": "https://localhost:8080/"
        },
        "id": "fdeEILId_9hP",
        "outputId": "68108b26-0f32-4752-f4ca-f24e9fe29cc3"
      },
      "execution_count": 12,
      "outputs": [
        {
          "output_type": "stream",
          "name": "stdout",
          "text": [
            "15\n"
          ]
        }
      ]
    }
  ]
}